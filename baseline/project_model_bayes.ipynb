{
  "nbformat": 4,
  "nbformat_minor": 0,
  "metadata": {
    "accelerator": "GPU",
    "colab": {
      "provenance": [],
      "gpuType": "T4"
    },
    "kernelspec": {
      "display_name": "Python 3",
      "name": "python3"
    },
    "gpuClass": "standard",
    "widgets": {
      "application/vnd.jupyter.widget-state+json": {
        "68d96974f80a4e9bb492e9f76ddc40fa": {
          "model_module": "@jupyter-widgets/controls",
          "model_name": "HBoxModel",
          "model_module_version": "1.5.0",
          "state": {
            "_dom_classes": [],
            "_model_module": "@jupyter-widgets/controls",
            "_model_module_version": "1.5.0",
            "_model_name": "HBoxModel",
            "_view_count": null,
            "_view_module": "@jupyter-widgets/controls",
            "_view_module_version": "1.5.0",
            "_view_name": "HBoxView",
            "box_style": "",
            "children": [
              "IPY_MODEL_d4e06ac5ba13475c8191d2e00b31878e",
              "IPY_MODEL_1cf34a9100b64e6b83b15c698be3a05a",
              "IPY_MODEL_90316a0828dc4a7696cbacf393195c2b"
            ],
            "layout": "IPY_MODEL_5e6c17a932df45b386d78f8612898728"
          }
        },
        "d4e06ac5ba13475c8191d2e00b31878e": {
          "model_module": "@jupyter-widgets/controls",
          "model_name": "HTMLModel",
          "model_module_version": "1.5.0",
          "state": {
            "_dom_classes": [],
            "_model_module": "@jupyter-widgets/controls",
            "_model_module_version": "1.5.0",
            "_model_name": "HTMLModel",
            "_view_count": null,
            "_view_module": "@jupyter-widgets/controls",
            "_view_module_version": "1.5.0",
            "_view_name": "HTMLView",
            "description": "",
            "description_tooltip": null,
            "layout": "IPY_MODEL_f32a3bd85c0c4cba91263782ccf83bad",
            "placeholder": "​",
            "style": "IPY_MODEL_86a72c36989b4589a574827bf7faccaa",
            "value": "100%"
          }
        },
        "1cf34a9100b64e6b83b15c698be3a05a": {
          "model_module": "@jupyter-widgets/controls",
          "model_name": "FloatProgressModel",
          "model_module_version": "1.5.0",
          "state": {
            "_dom_classes": [],
            "_model_module": "@jupyter-widgets/controls",
            "_model_module_version": "1.5.0",
            "_model_name": "FloatProgressModel",
            "_view_count": null,
            "_view_module": "@jupyter-widgets/controls",
            "_view_module_version": "1.5.0",
            "_view_name": "ProgressView",
            "bar_style": "success",
            "description": "",
            "description_tooltip": null,
            "layout": "IPY_MODEL_3b34475c9d3b4859820ec98384acb987",
            "max": 1,
            "min": 0,
            "orientation": "horizontal",
            "style": "IPY_MODEL_c4d8ffe47a484f2f8cb60fc358ce7697",
            "value": 1
          }
        },
        "90316a0828dc4a7696cbacf393195c2b": {
          "model_module": "@jupyter-widgets/controls",
          "model_name": "HTMLModel",
          "model_module_version": "1.5.0",
          "state": {
            "_dom_classes": [],
            "_model_module": "@jupyter-widgets/controls",
            "_model_module_version": "1.5.0",
            "_model_name": "HTMLModel",
            "_view_count": null,
            "_view_module": "@jupyter-widgets/controls",
            "_view_module_version": "1.5.0",
            "_view_name": "HTMLView",
            "description": "",
            "description_tooltip": null,
            "layout": "IPY_MODEL_ec14c32f50ce4389946b60d2f0b66731",
            "placeholder": "​",
            "style": "IPY_MODEL_066f952c460d4781ab8d9487583ddae4",
            "value": " 1/1 [00:02&lt;00:00,  2.63s/it]"
          }
        },
        "5e6c17a932df45b386d78f8612898728": {
          "model_module": "@jupyter-widgets/base",
          "model_name": "LayoutModel",
          "model_module_version": "1.2.0",
          "state": {
            "_model_module": "@jupyter-widgets/base",
            "_model_module_version": "1.2.0",
            "_model_name": "LayoutModel",
            "_view_count": null,
            "_view_module": "@jupyter-widgets/base",
            "_view_module_version": "1.2.0",
            "_view_name": "LayoutView",
            "align_content": null,
            "align_items": null,
            "align_self": null,
            "border": null,
            "bottom": null,
            "display": null,
            "flex": null,
            "flex_flow": null,
            "grid_area": null,
            "grid_auto_columns": null,
            "grid_auto_flow": null,
            "grid_auto_rows": null,
            "grid_column": null,
            "grid_gap": null,
            "grid_row": null,
            "grid_template_areas": null,
            "grid_template_columns": null,
            "grid_template_rows": null,
            "height": null,
            "justify_content": null,
            "justify_items": null,
            "left": null,
            "margin": null,
            "max_height": null,
            "max_width": null,
            "min_height": null,
            "min_width": null,
            "object_fit": null,
            "object_position": null,
            "order": null,
            "overflow": null,
            "overflow_x": null,
            "overflow_y": null,
            "padding": null,
            "right": null,
            "top": null,
            "visibility": null,
            "width": null
          }
        },
        "f32a3bd85c0c4cba91263782ccf83bad": {
          "model_module": "@jupyter-widgets/base",
          "model_name": "LayoutModel",
          "model_module_version": "1.2.0",
          "state": {
            "_model_module": "@jupyter-widgets/base",
            "_model_module_version": "1.2.0",
            "_model_name": "LayoutModel",
            "_view_count": null,
            "_view_module": "@jupyter-widgets/base",
            "_view_module_version": "1.2.0",
            "_view_name": "LayoutView",
            "align_content": null,
            "align_items": null,
            "align_self": null,
            "border": null,
            "bottom": null,
            "display": null,
            "flex": null,
            "flex_flow": null,
            "grid_area": null,
            "grid_auto_columns": null,
            "grid_auto_flow": null,
            "grid_auto_rows": null,
            "grid_column": null,
            "grid_gap": null,
            "grid_row": null,
            "grid_template_areas": null,
            "grid_template_columns": null,
            "grid_template_rows": null,
            "height": null,
            "justify_content": null,
            "justify_items": null,
            "left": null,
            "margin": null,
            "max_height": null,
            "max_width": null,
            "min_height": null,
            "min_width": null,
            "object_fit": null,
            "object_position": null,
            "order": null,
            "overflow": null,
            "overflow_x": null,
            "overflow_y": null,
            "padding": null,
            "right": null,
            "top": null,
            "visibility": null,
            "width": null
          }
        },
        "86a72c36989b4589a574827bf7faccaa": {
          "model_module": "@jupyter-widgets/controls",
          "model_name": "DescriptionStyleModel",
          "model_module_version": "1.5.0",
          "state": {
            "_model_module": "@jupyter-widgets/controls",
            "_model_module_version": "1.5.0",
            "_model_name": "DescriptionStyleModel",
            "_view_count": null,
            "_view_module": "@jupyter-widgets/base",
            "_view_module_version": "1.2.0",
            "_view_name": "StyleView",
            "description_width": ""
          }
        },
        "3b34475c9d3b4859820ec98384acb987": {
          "model_module": "@jupyter-widgets/base",
          "model_name": "LayoutModel",
          "model_module_version": "1.2.0",
          "state": {
            "_model_module": "@jupyter-widgets/base",
            "_model_module_version": "1.2.0",
            "_model_name": "LayoutModel",
            "_view_count": null,
            "_view_module": "@jupyter-widgets/base",
            "_view_module_version": "1.2.0",
            "_view_name": "LayoutView",
            "align_content": null,
            "align_items": null,
            "align_self": null,
            "border": null,
            "bottom": null,
            "display": null,
            "flex": null,
            "flex_flow": null,
            "grid_area": null,
            "grid_auto_columns": null,
            "grid_auto_flow": null,
            "grid_auto_rows": null,
            "grid_column": null,
            "grid_gap": null,
            "grid_row": null,
            "grid_template_areas": null,
            "grid_template_columns": null,
            "grid_template_rows": null,
            "height": null,
            "justify_content": null,
            "justify_items": null,
            "left": null,
            "margin": null,
            "max_height": null,
            "max_width": null,
            "min_height": null,
            "min_width": null,
            "object_fit": null,
            "object_position": null,
            "order": null,
            "overflow": null,
            "overflow_x": null,
            "overflow_y": null,
            "padding": null,
            "right": null,
            "top": null,
            "visibility": null,
            "width": null
          }
        },
        "c4d8ffe47a484f2f8cb60fc358ce7697": {
          "model_module": "@jupyter-widgets/controls",
          "model_name": "ProgressStyleModel",
          "model_module_version": "1.5.0",
          "state": {
            "_model_module": "@jupyter-widgets/controls",
            "_model_module_version": "1.5.0",
            "_model_name": "ProgressStyleModel",
            "_view_count": null,
            "_view_module": "@jupyter-widgets/base",
            "_view_module_version": "1.2.0",
            "_view_name": "StyleView",
            "bar_color": null,
            "description_width": ""
          }
        },
        "ec14c32f50ce4389946b60d2f0b66731": {
          "model_module": "@jupyter-widgets/base",
          "model_name": "LayoutModel",
          "model_module_version": "1.2.0",
          "state": {
            "_model_module": "@jupyter-widgets/base",
            "_model_module_version": "1.2.0",
            "_model_name": "LayoutModel",
            "_view_count": null,
            "_view_module": "@jupyter-widgets/base",
            "_view_module_version": "1.2.0",
            "_view_name": "LayoutView",
            "align_content": null,
            "align_items": null,
            "align_self": null,
            "border": null,
            "bottom": null,
            "display": null,
            "flex": null,
            "flex_flow": null,
            "grid_area": null,
            "grid_auto_columns": null,
            "grid_auto_flow": null,
            "grid_auto_rows": null,
            "grid_column": null,
            "grid_gap": null,
            "grid_row": null,
            "grid_template_areas": null,
            "grid_template_columns": null,
            "grid_template_rows": null,
            "height": null,
            "justify_content": null,
            "justify_items": null,
            "left": null,
            "margin": null,
            "max_height": null,
            "max_width": null,
            "min_height": null,
            "min_width": null,
            "object_fit": null,
            "object_position": null,
            "order": null,
            "overflow": null,
            "overflow_x": null,
            "overflow_y": null,
            "padding": null,
            "right": null,
            "top": null,
            "visibility": null,
            "width": null
          }
        },
        "066f952c460d4781ab8d9487583ddae4": {
          "model_module": "@jupyter-widgets/controls",
          "model_name": "DescriptionStyleModel",
          "model_module_version": "1.5.0",
          "state": {
            "_model_module": "@jupyter-widgets/controls",
            "_model_module_version": "1.5.0",
            "_model_name": "DescriptionStyleModel",
            "_view_count": null,
            "_view_module": "@jupyter-widgets/base",
            "_view_module_version": "1.2.0",
            "_view_name": "StyleView",
            "description_width": ""
          }
        }
      }
    }
  },
  "cells": [
    {
      "cell_type": "markdown",
      "metadata": {
        "id": "SgNZTjrhcHa0"
      },
      "source": [
        "# CSE 256 Project\n",
        "## baseline model\n",
        "### Specific: CNN model or LSTM model"
      ]
    },
    {
      "cell_type": "code",
      "source": [
        "!pip install -U torchtext==0.6.0"
      ],
      "metadata": {
        "colab": {
          "base_uri": "https://localhost:8080/"
        },
        "id": "AasjEE6G9RB4",
        "outputId": "6f84a6e2-1edb-4047-89f8-989711ba6a31"
      },
      "execution_count": null,
      "outputs": [
        {
          "output_type": "stream",
          "name": "stdout",
          "text": [
            "Looking in indexes: https://pypi.org/simple, https://us-python.pkg.dev/colab-wheels/public/simple/\n",
            "Requirement already satisfied: torchtext==0.6.0 in /usr/local/lib/python3.10/dist-packages (0.6.0)\n",
            "Requirement already satisfied: tqdm in /usr/local/lib/python3.10/dist-packages (from torchtext==0.6.0) (4.65.0)\n",
            "Requirement already satisfied: requests in /usr/local/lib/python3.10/dist-packages (from torchtext==0.6.0) (2.27.1)\n",
            "Requirement already satisfied: torch in /usr/local/lib/python3.10/dist-packages (from torchtext==0.6.0) (2.0.1+cu118)\n",
            "Requirement already satisfied: numpy in /usr/local/lib/python3.10/dist-packages (from torchtext==0.6.0) (1.22.4)\n",
            "Requirement already satisfied: six in /usr/local/lib/python3.10/dist-packages (from torchtext==0.6.0) (1.16.0)\n",
            "Requirement already satisfied: sentencepiece in /usr/local/lib/python3.10/dist-packages (from torchtext==0.6.0) (0.1.99)\n",
            "Requirement already satisfied: urllib3<1.27,>=1.21.1 in /usr/local/lib/python3.10/dist-packages (from requests->torchtext==0.6.0) (1.26.15)\n",
            "Requirement already satisfied: certifi>=2017.4.17 in /usr/local/lib/python3.10/dist-packages (from requests->torchtext==0.6.0) (2022.12.7)\n",
            "Requirement already satisfied: charset-normalizer~=2.0.0 in /usr/local/lib/python3.10/dist-packages (from requests->torchtext==0.6.0) (2.0.12)\n",
            "Requirement already satisfied: idna<4,>=2.5 in /usr/local/lib/python3.10/dist-packages (from requests->torchtext==0.6.0) (3.4)\n",
            "Requirement already satisfied: filelock in /usr/local/lib/python3.10/dist-packages (from torch->torchtext==0.6.0) (3.12.0)\n",
            "Requirement already satisfied: typing-extensions in /usr/local/lib/python3.10/dist-packages (from torch->torchtext==0.6.0) (4.5.0)\n",
            "Requirement already satisfied: sympy in /usr/local/lib/python3.10/dist-packages (from torch->torchtext==0.6.0) (1.11.1)\n",
            "Requirement already satisfied: networkx in /usr/local/lib/python3.10/dist-packages (from torch->torchtext==0.6.0) (3.1)\n",
            "Requirement already satisfied: jinja2 in /usr/local/lib/python3.10/dist-packages (from torch->torchtext==0.6.0) (3.1.2)\n",
            "Requirement already satisfied: triton==2.0.0 in /usr/local/lib/python3.10/dist-packages (from torch->torchtext==0.6.0) (2.0.0)\n",
            "Requirement already satisfied: cmake in /usr/local/lib/python3.10/dist-packages (from triton==2.0.0->torch->torchtext==0.6.0) (3.25.2)\n",
            "Requirement already satisfied: lit in /usr/local/lib/python3.10/dist-packages (from triton==2.0.0->torch->torchtext==0.6.0) (16.0.5)\n",
            "Requirement already satisfied: MarkupSafe>=2.0 in /usr/local/lib/python3.10/dist-packages (from jinja2->torch->torchtext==0.6.0) (2.1.2)\n",
            "Requirement already satisfied: mpmath>=0.19 in /usr/local/lib/python3.10/dist-packages (from sympy->torch->torchtext==0.6.0) (1.3.0)\n"
          ]
        }
      ]
    },
    {
      "cell_type": "code",
      "metadata": {
        "id": "edOh9ooiIW1B",
        "colab": {
          "base_uri": "https://localhost:8080/"
        },
        "outputId": "849b2054-d0ea-400b-eb63-d72de17fe2a4"
      },
      "source": [
        "import torch\n",
        "\n",
        "# Confirm that the GPU is detected\n",
        "\n",
        "assert torch.cuda.is_available()\n",
        "\n",
        "# Get the GPU device name.\n",
        "device_name = torch.cuda.get_device_name()\n",
        "n_gpu = torch.cuda.device_count()\n",
        "print(f\"Found device: {device_name}, n_gpu: {n_gpu}\")\n",
        "device = torch.device(\"cuda\")"
      ],
      "execution_count": null,
      "outputs": [
        {
          "output_type": "stream",
          "name": "stdout",
          "text": [
            "Found device: Tesla T4, n_gpu: 1\n"
          ]
        }
      ]
    },
    {
      "cell_type": "markdown",
      "source": [
        "## Standford Stentiment Treebank Data Preparing and Data Processing"
      ],
      "metadata": {
        "id": "sKOQ7D9962Yv"
      }
    },
    {
      "cell_type": "code",
      "source": [
        "# import libraries that will help us preprocess data, map to word embeddings\n",
        "import torchtext\n",
        "from torchtext.vocab import Vectors, GloVe"
      ],
      "metadata": {
        "id": "VpXqNeMc6j1V"
      },
      "execution_count": null,
      "outputs": []
    },
    {
      "cell_type": "code",
      "source": [
        "print(torch.__version__)"
      ],
      "metadata": {
        "colab": {
          "base_uri": "https://localhost:8080/"
        },
        "id": "O7nDHtD377Em",
        "outputId": "4125083f-46d7-4c81-9715-f083e643bf5c"
      },
      "execution_count": null,
      "outputs": [
        {
          "output_type": "stream",
          "name": "stdout",
          "text": [
            "2.0.1+cu118\n"
          ]
        }
      ]
    },
    {
      "cell_type": "code",
      "source": [
        "print(torchtext.__version__)"
      ],
      "metadata": {
        "colab": {
          "base_uri": "https://localhost:8080/"
        },
        "id": "LXqwhjX7IRJd",
        "outputId": "d168706a-43e7-462e-ab97-ec85e09d0d61"
      },
      "execution_count": null,
      "outputs": [
        {
          "output_type": "stream",
          "name": "stdout",
          "text": [
            "0.6.0\n"
          ]
        }
      ]
    },
    {
      "cell_type": "markdown",
      "source": [
        "## Naive Bayes Model"
      ],
      "metadata": {
        "id": "gwV6Ag_gIhxb"
      }
    },
    {
      "cell_type": "code",
      "source": [
        "# this will be our input x to the classifiers\n",
        "text_bayes = torchtext.data.Field()\n",
        "\n",
        "# this will be what we map to, the tag y\n",
        "label_bayes = torchtext.data.Field(sequential=False)"
      ],
      "metadata": {
        "id": "mi18Wsr66qpp"
      },
      "execution_count": null,
      "outputs": []
    },
    {
      "cell_type": "code",
      "source": [
        "# split the dataset into train, val, and test sets. Exclude neutral labels, so just positive or negative\n",
        "train_bayes, val_bayes, test_bayes = torchtext.datasets.SST.splits(text_bayes, label_bayes, filter_pred=lambda ex: ex.label != 'neutral')"
      ],
      "metadata": {
        "id": "C25yangi7jOA"
      },
      "execution_count": null,
      "outputs": []
    },
    {
      "cell_type": "code",
      "source": [
        "# each consists of a label and it's original words\n",
        "print('len(train)', len(train_bayes))\n",
        "print('vars(train[0])', vars(train_bayes[0]))"
      ],
      "metadata": {
        "colab": {
          "base_uri": "https://localhost:8080/"
        },
        "id": "JUgR7H_o-BHw",
        "outputId": "6f558329-d4ca-4d52-a5e4-ba85d7c01f9b"
      },
      "execution_count": null,
      "outputs": [
        {
          "output_type": "stream",
          "name": "stdout",
          "text": [
            "len(train) 6920\n",
            "vars(train[0]) {'text': ['The', 'Rock', 'is', 'destined', 'to', 'be', 'the', '21st', 'Century', \"'s\", 'new', '``', 'Conan', \"''\", 'and', 'that', 'he', \"'s\", 'going', 'to', 'make', 'a', 'splash', 'even', 'greater', 'than', 'Arnold', 'Schwarzenegger', ',', 'Jean-Claud', 'Van', 'Damme', 'or', 'Steven', 'Segal', '.'], 'label': 'positive'}\n"
          ]
        }
      ]
    },
    {
      "cell_type": "code",
      "source": [
        "# assign an index to each word and label (unique) kind of like countvectorizer\n",
        "text_bayes.build_vocab(train_bayes)\n",
        "label_bayes.build_vocab(train_bayes)\n",
        "print('len(text_bayes.vocab)', len(text_bayes.vocab))\n",
        "print('len(label_bayes.vocab)', len(label_bayes.vocab))"
      ],
      "metadata": {
        "colab": {
          "base_uri": "https://localhost:8080/"
        },
        "id": "om579V4G-D4U",
        "outputId": "7c45d28f-ef04-4ffb-e801-23f304e143ac"
      },
      "execution_count": null,
      "outputs": [
        {
          "output_type": "stream",
          "name": "stdout",
          "text": [
            "len(text_bayes.vocab) 16284\n",
            "len(label_bayes.vocab) 3\n"
          ]
        }
      ]
    },
    {
      "cell_type": "code",
      "source": [
        "# produce three batch iterators that iterate 10 examples at a time\n",
        "train_bayes_iter, val_bayes_iter, test_bayes_iter = torchtext.data.BucketIterator.splits((train_bayes, val_bayes, test_bayes), batch_size=10, device=-1)"
      ],
      "metadata": {
        "colab": {
          "base_uri": "https://localhost:8080/"
        },
        "id": "OgrqoFfw-G_b",
        "outputId": "17f01ed9-8855-4911-b0cb-c00d30e5d7e8"
      },
      "execution_count": null,
      "outputs": [
        {
          "output_type": "stream",
          "name": "stderr",
          "text": [
            "WARNING:torchtext.data.iterator:The `device` argument should be set by using `torch.device` or passing a string as an argument. This behavior will be deprecated soon and currently defaults to cpu.\n",
            "WARNING:torchtext.data.iterator:The `device` argument should be set by using `torch.device` or passing a string as an argument. This behavior will be deprecated soon and currently defaults to cpu.\n",
            "WARNING:torchtext.data.iterator:The `device` argument should be set by using `torch.device` or passing a string as an argument. This behavior will be deprecated soon and currently defaults to cpu.\n"
          ]
        }
      ]
    },
    {
      "cell_type": "code",
      "source": [
        "# Build the vocabulary with word embeddings\n",
        "url = 'https://dl.fbaipublicfiles.com/fasttext/vectors-wiki/wiki.simple.vec'\n",
        "text_bayes.vocab.load_vectors(vectors=Vectors('wiki.simple.vec', url=url))\n",
        "\n",
        "print(\"Word embeddings size \", text_bayes.vocab.vectors.size())\n",
        "print(\"Word embedding of 'follows', first 10 dim \", text_bayes.vocab.vectors[text_bayes.vocab.stoi['follows']][:10])"
      ],
      "metadata": {
        "colab": {
          "base_uri": "https://localhost:8080/"
        },
        "id": "qNv_oVPe-Rj1",
        "outputId": "894180c2-1e7f-4bee-dbc1-c97de3f9d31c"
      },
      "execution_count": null,
      "outputs": [
        {
          "output_type": "stream",
          "name": "stdout",
          "text": [
            "Word embeddings size  torch.Size([16284, 300])\n",
            "Word embedding of 'follows', first 10 dim  tensor([ 0.3925, -0.4770,  0.1754, -0.0845,  0.1396,  0.3722, -0.0878, -0.2398,\n",
            "         0.0367,  0.2800])\n"
          ]
        }
      ]
    },
    {
      "cell_type": "code",
      "source": [
        "batch_bayes = next(iter(train_bayes_iter))"
      ],
      "metadata": {
        "id": "K0hU9ESQ-bIf"
      },
      "execution_count": null,
      "outputs": []
    },
    {
      "cell_type": "code",
      "source": [
        "print(\"Size of text batch [max sent length, batch size]\", batch_bayes.text.size())\n",
        "print(\"Second in batch\", batch_bayes.text[:, 0])\n",
        "print(\"Converted back to string: \", \" \".join([text_bayes.vocab.itos[i] for i in batch_bayes.text[:, 0].data]))"
      ],
      "metadata": {
        "colab": {
          "base_uri": "https://localhost:8080/"
        },
        "id": "sVOidw5BJoH9",
        "outputId": "89f0d79a-040a-4396-89dd-b6f32fab23b0"
      },
      "execution_count": null,
      "outputs": [
        {
          "output_type": "stream",
          "name": "stdout",
          "text": [
            "Size of text batch [max sent length, batch size] torch.Size([41, 10])\n",
            "Second in batch tensor([ 132,  124,   42,   87,    7, 2622,  179,  507,    9,  486,   35,   15,\n",
            "         446,   15,  350, 1551,   10, 4567,    6, 9766,    2,    1,    1,    1,\n",
            "           1,    1,    1,    1,    1,    1,    1,    1,    1,    1,    1,    1,\n",
            "           1,    1,    1,    1,    1])\n",
            "Converted back to string:  What should have been a cutting Hollywood satire is instead about as fresh as last week 's issue of Variety . <pad> <pad> <pad> <pad> <pad> <pad> <pad> <pad> <pad> <pad> <pad> <pad> <pad> <pad> <pad> <pad> <pad> <pad> <pad> <pad>\n"
          ]
        }
      ]
    },
    {
      "cell_type": "code",
      "source": [
        "import numpy as np\n",
        "import numpy as np\n",
        "from sklearn.naive_bayes import MultinomialNB\n",
        "from torchtext.vocab import Vectors\n",
        "from tqdm import tqdm_notebook\n",
        "\n",
        "class NaiveBayes:\n",
        "    def __init__(self, text):\n",
        "        self.train_iter = train_bayes_iter\n",
        "        self.test_iter = test_bayes_iter\n",
        "        self.val_iter = val_bayes_iter\n",
        "        self.array_like = np.zeros((train_bayes_iter.batch_size, len(text.vocab)))\n",
        "\n",
        "    def binarize_occurrences(self, indices):\n",
        "        occurrences = self.array_like.copy()\n",
        "        for idx, entry in enumerate(indices): occurrences[idx][entry] = 1\n",
        "        return occurrences\n",
        "\n",
        "    def batch_to_input(self, batch, train = True):\n",
        "        word_indices = batch.text.data.numpy().T\n",
        "        x = self.binarize_occurrences(word_indices)\n",
        "        if train:\n",
        "            y = batch.label.data.numpy()\n",
        "            return x, y\n",
        "        else:\n",
        "            return x\n",
        "\n",
        "    def train_mnb(self, train_iter, val_iter, no_epochs):\n",
        "        self.model = MultinomialNB(alpha=1.0, fit_prior=True)\n",
        "        for epoch in tqdm_notebook(range(1, no_epochs+1)):\n",
        "            for batch in train_iter:\n",
        "                x, y = self.batch_to_input(batch, train = True)\n",
        "                self.model.partial_fit(x, y, classes = [1,2])\n",
        "\n",
        "            if epoch % 1 == 0:\n",
        "                acc = self.validate(val_iter)\n",
        "                print('Epoch ', epoch, '| Validation Accuracy: ', acc)\n",
        "        print('Done training.')\n",
        "\n",
        "    def test(self, test_iter):\n",
        "        \"All models should be able to be run with following command.\"\n",
        "        upload, trues = [], []\n",
        "\n",
        "        for batch in test_iter:\n",
        "            x, y = self.batch_to_input(batch, train = False), batch.label\n",
        "            probs = self.model.predict(x)\n",
        "            upload += list(probs)\n",
        "            trues += list(y.data)\n",
        "        correct = sum([1 if i == j else 0 for i, j in zip(upload, trues)])\n",
        "        accuracy = correct / len(trues)\n",
        "        print('Test Accuracy: ', accuracy)\n",
        "\n",
        "        with open(\"predictions.txt\", \"w\") as f:\n",
        "            for u in upload:\n",
        "                f.write(str(u) + \"\\n\")\n",
        "\n",
        "    def validate(self, val_iter):\n",
        "        y_p, y_t, correct = [], [], 0\n",
        "        for batch in val_iter:\n",
        "            x, y = self.batch_to_input(batch, train = False), batch.label\n",
        "            probs = self.model.predict(x)[:len(y.data)]\n",
        "            y_p += list(probs)\n",
        "            y_t += list(y.data)\n",
        "        correct = sum([1 if i == j else 0 for i, j in zip(y_p, y_t)])\n",
        "        accuracy = correct / len(y_p)\n",
        "        return accuracy"
      ],
      "metadata": {
        "id": "JQQelEjVJ31a"
      },
      "execution_count": null,
      "outputs": []
    },
    {
      "cell_type": "code",
      "source": [
        "bayes_model = NaiveBayes(text_bayes)\n",
        "bayes_model.train_mnb(train_bayes_iter, val_bayes_iter, 1)\n",
        "bayes_model.test(test_bayes_iter)"
      ],
      "metadata": {
        "colab": {
          "base_uri": "https://localhost:8080/",
          "height": 156,
          "referenced_widgets": [
            "68d96974f80a4e9bb492e9f76ddc40fa",
            "d4e06ac5ba13475c8191d2e00b31878e",
            "1cf34a9100b64e6b83b15c698be3a05a",
            "90316a0828dc4a7696cbacf393195c2b",
            "5e6c17a932df45b386d78f8612898728",
            "f32a3bd85c0c4cba91263782ccf83bad",
            "86a72c36989b4589a574827bf7faccaa",
            "3b34475c9d3b4859820ec98384acb987",
            "c4d8ffe47a484f2f8cb60fc358ce7697",
            "ec14c32f50ce4389946b60d2f0b66731",
            "066f952c460d4781ab8d9487583ddae4"
          ]
        },
        "id": "7EIdwqsGLEp_",
        "outputId": "6e5e8738-82e9-4430-e3b4-561e0d446ddb"
      },
      "execution_count": null,
      "outputs": [
        {
          "output_type": "stream",
          "name": "stderr",
          "text": [
            "<ipython-input-18-4e6cecd74707>:30: TqdmDeprecationWarning: This function will be removed in tqdm==5.0.0\n",
            "Please use `tqdm.notebook.tqdm` instead of `tqdm.tqdm_notebook`\n",
            "  for epoch in tqdm_notebook(range(1, no_epochs+1)):\n"
          ]
        },
        {
          "output_type": "display_data",
          "data": {
            "text/plain": [
              "  0%|          | 0/1 [00:00<?, ?it/s]"
            ],
            "application/vnd.jupyter.widget-view+json": {
              "version_major": 2,
              "version_minor": 0,
              "model_id": "68d96974f80a4e9bb492e9f76ddc40fa"
            }
          },
          "metadata": {}
        },
        {
          "output_type": "stream",
          "name": "stdout",
          "text": [
            "Epoch  1 | Validation Accuracy:  0.7981651376146789\n",
            "Done training.\n",
            "Test Accuracy:  0.8220757825370676\n"
          ]
        }
      ]
    },
    {
      "cell_type": "code",
      "source": [],
      "metadata": {
        "id": "BYwNWv3NLQ9n"
      },
      "execution_count": null,
      "outputs": []
    }
  ]
}