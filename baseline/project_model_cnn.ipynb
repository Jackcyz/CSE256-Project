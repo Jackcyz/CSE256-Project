{
  "cells": [
    {
      "attachments": {},
      "cell_type": "markdown",
      "metadata": {
        "id": "SgNZTjrhcHa0"
      },
      "source": [
        "# CSE 256 Project\n",
        "## baseline model\n",
        "### Specific: CNN model or LSTM model"
      ]
    },
    {
      "cell_type": "code",
      "execution_count": null,
      "metadata": {
        "colab": {
          "base_uri": "https://localhost:8080/"
        },
        "id": "AasjEE6G9RB4",
        "outputId": "89a12f39-45a0-4fcd-b110-a9629ba068d5",
        "vscode": {
          "languageId": "python"
        }
      },
      "outputs": [
        {
          "name": "stdout",
          "output_type": "stream",
          "text": [
            "Looking in indexes: https://pypi.org/simple, https://us-python.pkg.dev/colab-wheels/public/simple/\n",
            "Collecting torchtext==0.6.0\n",
            "  Downloading torchtext-0.6.0-py3-none-any.whl (64 kB)\n",
            "\u001b[2K     \u001b[90m━━━━━━━━━━━━━━━━━━━━━━━━━━━━━━━━━━━━━━━━\u001b[0m \u001b[32m64.2/64.2 kB\u001b[0m \u001b[31m3.2 MB/s\u001b[0m eta \u001b[36m0:00:00\u001b[0m\n",
            "\u001b[?25hRequirement already satisfied: tqdm in /usr/local/lib/python3.10/dist-packages (from torchtext==0.6.0) (4.65.0)\n",
            "Requirement already satisfied: requests in /usr/local/lib/python3.10/dist-packages (from torchtext==0.6.0) (2.27.1)\n",
            "Requirement already satisfied: torch in /usr/local/lib/python3.10/dist-packages (from torchtext==0.6.0) (2.0.1+cu118)\n",
            "Requirement already satisfied: numpy in /usr/local/lib/python3.10/dist-packages (from torchtext==0.6.0) (1.22.4)\n",
            "Requirement already satisfied: six in /usr/local/lib/python3.10/dist-packages (from torchtext==0.6.0) (1.16.0)\n",
            "Collecting sentencepiece (from torchtext==0.6.0)\n",
            "  Downloading sentencepiece-0.1.99-cp310-cp310-manylinux_2_17_x86_64.manylinux2014_x86_64.whl (1.3 MB)\n",
            "\u001b[2K     \u001b[90m━━━━━━━━━━━━━━━━━━━━━━━━━━━━━━━━━━━━━━━━\u001b[0m \u001b[32m1.3/1.3 MB\u001b[0m \u001b[31m27.6 MB/s\u001b[0m eta \u001b[36m0:00:00\u001b[0m\n",
            "\u001b[?25hRequirement already satisfied: urllib3<1.27,>=1.21.1 in /usr/local/lib/python3.10/dist-packages (from requests->torchtext==0.6.0) (1.26.15)\n",
            "Requirement already satisfied: certifi>=2017.4.17 in /usr/local/lib/python3.10/dist-packages (from requests->torchtext==0.6.0) (2022.12.7)\n",
            "Requirement already satisfied: charset-normalizer~=2.0.0 in /usr/local/lib/python3.10/dist-packages (from requests->torchtext==0.6.0) (2.0.12)\n",
            "Requirement already satisfied: idna<4,>=2.5 in /usr/local/lib/python3.10/dist-packages (from requests->torchtext==0.6.0) (3.4)\n",
            "Requirement already satisfied: filelock in /usr/local/lib/python3.10/dist-packages (from torch->torchtext==0.6.0) (3.12.0)\n",
            "Requirement already satisfied: typing-extensions in /usr/local/lib/python3.10/dist-packages (from torch->torchtext==0.6.0) (4.5.0)\n",
            "Requirement already satisfied: sympy in /usr/local/lib/python3.10/dist-packages (from torch->torchtext==0.6.0) (1.11.1)\n",
            "Requirement already satisfied: networkx in /usr/local/lib/python3.10/dist-packages (from torch->torchtext==0.6.0) (3.1)\n",
            "Requirement already satisfied: jinja2 in /usr/local/lib/python3.10/dist-packages (from torch->torchtext==0.6.0) (3.1.2)\n",
            "Requirement already satisfied: triton==2.0.0 in /usr/local/lib/python3.10/dist-packages (from torch->torchtext==0.6.0) (2.0.0)\n",
            "Requirement already satisfied: cmake in /usr/local/lib/python3.10/dist-packages (from triton==2.0.0->torch->torchtext==0.6.0) (3.25.2)\n",
            "Requirement already satisfied: lit in /usr/local/lib/python3.10/dist-packages (from triton==2.0.0->torch->torchtext==0.6.0) (16.0.5)\n",
            "Requirement already satisfied: MarkupSafe>=2.0 in /usr/local/lib/python3.10/dist-packages (from jinja2->torch->torchtext==0.6.0) (2.1.2)\n",
            "Requirement already satisfied: mpmath>=0.19 in /usr/local/lib/python3.10/dist-packages (from sympy->torch->torchtext==0.6.0) (1.3.0)\n",
            "Installing collected packages: sentencepiece, torchtext\n",
            "  Attempting uninstall: torchtext\n",
            "    Found existing installation: torchtext 0.15.2\n",
            "    Uninstalling torchtext-0.15.2:\n",
            "      Successfully uninstalled torchtext-0.15.2\n",
            "Successfully installed sentencepiece-0.1.99 torchtext-0.6.0\n"
          ]
        }
      ],
      "source": [
        "!pip install -U torchtext==0.6.0"
      ]
    },
    {
      "cell_type": "code",
      "execution_count": null,
      "metadata": {
        "colab": {
          "base_uri": "https://localhost:8080/"
        },
        "id": "edOh9ooiIW1B",
        "outputId": "485fe15d-314d-455a-e682-e98ed027bd25",
        "vscode": {
          "languageId": "python"
        }
      },
      "outputs": [
        {
          "name": "stdout",
          "output_type": "stream",
          "text": [
            "Found device: Tesla T4, n_gpu: 1\n"
          ]
        }
      ],
      "source": [
        "import torch\n",
        "\n",
        "# Confirm that the GPU is detected\n",
        "\n",
        "assert torch.cuda.is_available()\n",
        "\n",
        "# Get the GPU device name.\n",
        "device_name = torch.cuda.get_device_name()\n",
        "n_gpu = torch.cuda.device_count()\n",
        "print(f\"Found device: {device_name}, n_gpu: {n_gpu}\")\n",
        "device = torch.device(\"cuda\")"
      ]
    },
    {
      "cell_type": "code",
      "execution_count": null,
      "metadata": {
        "id": "AKeSRRm0NXZw",
        "vscode": {
          "languageId": "python"
        }
      },
      "outputs": [],
      "source": [
        "# module import\n",
        "\n",
        "import torch.nn as nn\n",
        "from torch.autograd import Variable\n",
        "import matplotlib.pyplot as plt\n",
        "import numpy as np\n",
        "from tqdm import tqdm_notebook"
      ]
    },
    {
      "attachments": {},
      "cell_type": "markdown",
      "metadata": {
        "id": "sKOQ7D9962Yv"
      },
      "source": [
        "## Standford Stentiment Treebank Data Preparing and Data Processing"
      ]
    },
    {
      "cell_type": "code",
      "execution_count": null,
      "metadata": {
        "id": "VpXqNeMc6j1V",
        "vscode": {
          "languageId": "python"
        }
      },
      "outputs": [],
      "source": [
        "# import libraries that will help us preprocess data, map to word embeddings\n",
        "import torchtext\n",
        "from torchtext.vocab import Vectors, GloVe"
      ]
    },
    {
      "cell_type": "code",
      "execution_count": null,
      "metadata": {
        "colab": {
          "base_uri": "https://localhost:8080/"
        },
        "id": "O7nDHtD377Em",
        "outputId": "dd57ec58-0a47-44eb-ac1d-2e2019101316",
        "vscode": {
          "languageId": "python"
        }
      },
      "outputs": [
        {
          "name": "stdout",
          "output_type": "stream",
          "text": [
            "2.0.1+cu118\n"
          ]
        }
      ],
      "source": [
        "print(torch.__version__)"
      ]
    },
    {
      "cell_type": "code",
      "execution_count": null,
      "metadata": {
        "colab": {
          "base_uri": "https://localhost:8080/"
        },
        "id": "LXqwhjX7IRJd",
        "outputId": "f3623193-2a34-4bb4-e9c7-fdc1b33271b6",
        "vscode": {
          "languageId": "python"
        }
      },
      "outputs": [
        {
          "name": "stdout",
          "output_type": "stream",
          "text": [
            "0.6.0\n"
          ]
        }
      ],
      "source": [
        "print(torchtext.__version__)"
      ]
    },
    {
      "attachments": {},
      "cell_type": "markdown",
      "metadata": {
        "id": "gwV6Ag_gIhxb"
      },
      "source": [
        "## Convolutional Neural Network Model"
      ]
    },
    {
      "cell_type": "code",
      "execution_count": null,
      "metadata": {
        "id": "mi18Wsr66qpp",
        "vscode": {
          "languageId": "python"
        }
      },
      "outputs": [],
      "source": [
        "# this will be our input x to the classifiers\n",
        "text_cnn = torchtext.data.Field()\n",
        "\n",
        "# this will be what we map to, the tag y\n",
        "label_cnn = torchtext.data.Field(sequential=False)"
      ]
    },
    {
      "cell_type": "code",
      "execution_count": null,
      "metadata": {
        "colab": {
          "base_uri": "https://localhost:8080/"
        },
        "id": "C25yangi7jOA",
        "outputId": "e108f821-4773-4de3-de4f-a5357ad2f91d",
        "vscode": {
          "languageId": "python"
        }
      },
      "outputs": [
        {
          "name": "stdout",
          "output_type": "stream",
          "text": [
            "downloading trainDevTestTrees_PTB.zip\n"
          ]
        },
        {
          "name": "stderr",
          "output_type": "stream",
          "text": [
            "trainDevTestTrees_PTB.zip: 100%|██████████| 790k/790k [00:00<00:00, 1.40MB/s]\n"
          ]
        },
        {
          "name": "stdout",
          "output_type": "stream",
          "text": [
            "extracting\n"
          ]
        }
      ],
      "source": [
        "# split the dataset into train, val, and test sets. Exclude neutral labels, so just positive or negative\n",
        "train_cnn, val_cnn, test_cnn = torchtext.datasets.SST.splits(text_cnn, label_cnn, filter_pred=lambda ex: ex.label != 'neutral')"
      ]
    },
    {
      "cell_type": "code",
      "execution_count": null,
      "metadata": {
        "colab": {
          "base_uri": "https://localhost:8080/"
        },
        "id": "JUgR7H_o-BHw",
        "outputId": "1c73e807-61ef-4bf0-c2fe-5f108033c867",
        "vscode": {
          "languageId": "python"
        }
      },
      "outputs": [
        {
          "name": "stdout",
          "output_type": "stream",
          "text": [
            "len(train) 6920\n",
            "vars(train[0]) {'text': ['The', 'Rock', 'is', 'destined', 'to', 'be', 'the', '21st', 'Century', \"'s\", 'new', '``', 'Conan', \"''\", 'and', 'that', 'he', \"'s\", 'going', 'to', 'make', 'a', 'splash', 'even', 'greater', 'than', 'Arnold', 'Schwarzenegger', ',', 'Jean-Claud', 'Van', 'Damme', 'or', 'Steven', 'Segal', '.'], 'label': 'positive'}\n"
          ]
        }
      ],
      "source": [
        "# each consists of a label and it's original words\n",
        "print('len(train)', len(train_cnn))\n",
        "print('vars(train[0])', vars(train_cnn[0]))"
      ]
    },
    {
      "cell_type": "code",
      "execution_count": null,
      "metadata": {
        "colab": {
          "base_uri": "https://localhost:8080/"
        },
        "id": "om579V4G-D4U",
        "outputId": "bfd41558-aec1-4808-ac1c-a771cf911b7b",
        "vscode": {
          "languageId": "python"
        }
      },
      "outputs": [
        {
          "name": "stdout",
          "output_type": "stream",
          "text": [
            "len(text_cnn.vocab) 16284\n",
            "len(label_cnn.vocab) 3\n"
          ]
        }
      ],
      "source": [
        "# assign an index to each word and label (unique) kind of like countvectorizer\n",
        "text_cnn.build_vocab(train_cnn)\n",
        "label_cnn.build_vocab(train_cnn)\n",
        "print('len(text_cnn.vocab)', len(text_cnn.vocab))\n",
        "print('len(label_cnn.vocab)', len(label_cnn.vocab))"
      ]
    },
    {
      "cell_type": "code",
      "execution_count": null,
      "metadata": {
        "colab": {
          "base_uri": "https://localhost:8080/"
        },
        "id": "OgrqoFfw-G_b",
        "outputId": "ccfb7fb3-0e4a-417e-c906-2267a2eff69a",
        "vscode": {
          "languageId": "python"
        }
      },
      "outputs": [
        {
          "name": "stderr",
          "output_type": "stream",
          "text": [
            "WARNING:torchtext.data.iterator:The `device` argument should be set by using `torch.device` or passing a string as an argument. This behavior will be deprecated soon and currently defaults to cpu.\n",
            "WARNING:torchtext.data.iterator:The `device` argument should be set by using `torch.device` or passing a string as an argument. This behavior will be deprecated soon and currently defaults to cpu.\n",
            "WARNING:torchtext.data.iterator:The `device` argument should be set by using `torch.device` or passing a string as an argument. This behavior will be deprecated soon and currently defaults to cpu.\n"
          ]
        }
      ],
      "source": [
        "# produce three batch iterators that iterate 10 examples at a time\n",
        "train_cnn_iter, val_cnn_iter, test_cnn_iter = torchtext.data.BucketIterator.splits((train_cnn, val_cnn, test_cnn), batch_size=10, device=-1)"
      ]
    },
    {
      "cell_type": "code",
      "execution_count": null,
      "metadata": {
        "colab": {
          "base_uri": "https://localhost:8080/"
        },
        "id": "qNv_oVPe-Rj1",
        "outputId": "52fd88bc-aec4-480b-b076-355e459f41b0",
        "vscode": {
          "languageId": "python"
        }
      },
      "outputs": [
        {
          "name": "stderr",
          "output_type": "stream",
          "text": [
            ".vector_cache/wiki.simple.vec: 293MB [00:08, 33.8MB/s]                           \n",
            "  0%|          | 0/111051 [00:00<?, ?it/s]WARNING:torchtext.vocab:Skipping token b'111051' with 1-dimensional vector [b'300']; likely a header\n",
            "100%|██████████| 111051/111051 [00:14<00:00, 7627.24it/s]\n"
          ]
        },
        {
          "name": "stdout",
          "output_type": "stream",
          "text": [
            "Word embeddings size  torch.Size([16284, 300])\n",
            "Word embedding of 'follows', first 10 dim  tensor([ 0.3925, -0.4770,  0.1754, -0.0845,  0.1396,  0.3722, -0.0878, -0.2398,\n",
            "         0.0367,  0.2800])\n"
          ]
        }
      ],
      "source": [
        "# Build the vocabulary with word embeddings\n",
        "url = 'https://dl.fbaipublicfiles.com/fasttext/vectors-wiki/wiki.simple.vec'\n",
        "text_cnn.vocab.load_vectors(vectors=Vectors('wiki.simple.vec', url=url))\n",
        "\n",
        "print(\"Word embeddings size \", text_cnn.vocab.vectors.size())\n",
        "print(\"Word embedding of 'follows', first 10 dim \", text_cnn.vocab.vectors[text_cnn.vocab.stoi['follows']][:10])"
      ]
    },
    {
      "cell_type": "code",
      "execution_count": null,
      "metadata": {
        "id": "K0hU9ESQ-bIf",
        "vscode": {
          "languageId": "python"
        }
      },
      "outputs": [],
      "source": [
        "batch_cnn = next(iter(train_cnn_iter))"
      ]
    },
    {
      "cell_type": "code",
      "execution_count": null,
      "metadata": {
        "colab": {
          "base_uri": "https://localhost:8080/"
        },
        "id": "sVOidw5BJoH9",
        "outputId": "7ebb1108-8f54-4acb-bec2-de479c7a6937",
        "vscode": {
          "languageId": "python"
        }
      },
      "outputs": [
        {
          "name": "stdout",
          "output_type": "stream",
          "text": [
            "Size of text batch [max sent length, batch size] torch.Size([46, 10])\n",
            "Second in batch tensor([ 1156,   398,   212,   149,    56,     6,     4, 12186,     3,  1190,\n",
            "         1327,   106,    56,     3,    19,  7509,    12,     4,   868,     1,\n",
            "            1,     1,     1,     1,     1,     1,     1,     1,     1,     1,\n",
            "            1,     1,     1,     1,     1,     1,     1,     1,     1,     1,\n",
            "            1,     1,     1,     1,     1,     1])\n",
            "Converted back to string:  Rock solid family fun out of the gates , extremely imaginative through out , but wanes in the middle <pad> <pad> <pad> <pad> <pad> <pad> <pad> <pad> <pad> <pad> <pad> <pad> <pad> <pad> <pad> <pad> <pad> <pad> <pad> <pad> <pad> <pad> <pad> <pad> <pad> <pad> <pad>\n"
          ]
        }
      ],
      "source": [
        "print(\"Size of text batch [max sent length, batch size]\", batch_cnn.text.size())\n",
        "print(\"Second in batch\", batch_cnn.text[:, 0])\n",
        "print(\"Converted back to string: \", \" \".join([text_cnn.vocab.itos[i] for i in batch_cnn.text[:, 0].data]))"
      ]
    },
    {
      "cell_type": "code",
      "execution_count": null,
      "metadata": {
        "id": "JQQelEjVJ31a",
        "vscode": {
          "languageId": "python"
        }
      },
      "outputs": [],
      "source": [
        "class CNN(nn.Module):\n",
        "    def __init__(self, in_channels, out_channels, batch_size):\n",
        "        super(CNN, self).__init__()\n",
        "        self.embeddings = nn.Embedding(text_cnn.vocab.vectors.size()[0], text_cnn.vocab.vectors.size()[1])\n",
        "        self.embeddings.weight.data.copy_(text_cnn.vocab.vectors)\n",
        "        self.convs = nn.ModuleList([nn.Conv1d(in_channels = in_channels, out_channels = in_channels, kernel_size = n) for n in (2,3,4)])\n",
        "        self.dropout_train, self.dropout_test = nn.Dropout(p = 0.5), nn.Dropout(p = 0)\n",
        "        self.linear = nn.Linear(in_features=in_channels, out_features=out_channels, bias = True)\n",
        "\n",
        "    def forward(self, x, train = True):\n",
        "        embedded = self.embeddings(x)\n",
        "        embedded = embedded.transpose(1, 2)\n",
        "        embedded = embedded.transpose(0, 2)\n",
        "        concatted_features = torch.cat([conv(embedded) for conv in self.convs if embedded.size(2) >= conv.kernel_size[0]], dim = 2)\n",
        "        activated_features = nn.functional.relu(concatted_features)\n",
        "        pooled = nn.functional.max_pool1d(activated_features, activated_features.size(2)).squeeze(2)\n",
        "        dropped = self.dropout_train(pooled) if train else self.dropout_test(pooled)\n",
        "        output = self.linear(dropped)\n",
        "        logits = nn.functional.log_softmax(output, dim = 1)\n",
        "        return logits\n",
        "\n",
        "    def predict(self, x):\n",
        "        logits = self.forward(x, train = False)\n",
        "        return logits.max(1)[1] + 1\n",
        "\n",
        "    def train(self, train_iter, val_iter, num_epochs, learning_rate = 1e-3):\n",
        "        criterion = nn.NLLLoss()\n",
        "        optimizer = torch.optim.Adam(model.parameters(), lr = learning_rate)\n",
        "        loss_vec = []\n",
        "\n",
        "        for epoch in tqdm_notebook(range(1, num_epochs+1)):\n",
        "            epoch_loss = 0\n",
        "            for batch in train_iter:\n",
        "                x = batch.text\n",
        "                y = batch.label\n",
        "\n",
        "                optimizer.zero_grad()\n",
        "\n",
        "                y_p = self.forward(x)\n",
        "\n",
        "                loss = criterion(y_p, y-1)\n",
        "                loss.backward()\n",
        "\n",
        "                optimizer.step()\n",
        "                epoch_loss += loss.data.item()\n",
        "\n",
        "            self.model = model\n",
        "\n",
        "            loss_vec.append(epoch_loss / len(train_iter))\n",
        "            if epoch % 1 == 0:\n",
        "                acc = self.validate(val_iter)\n",
        "                print('Epoch {} loss: {} | acc: {}'.format(epoch, loss_vec[epoch-1], acc))\n",
        "                self.model = model\n",
        "\n",
        "        plt.plot(range(len(loss_vec)), loss_vec)\n",
        "        plt.xlabel('Epoch')\n",
        "        plt.ylabel('Loss')\n",
        "        plt.show()\n",
        "        print('\\nModel trained.\\n')\n",
        "        self.loss_vec = loss_vec\n",
        "        self.model = model\n",
        "\n",
        "    def test(self, test_iter):\n",
        "        \"All models should be able to be run with following command.\"\n",
        "        upload, trues = [], []\n",
        "        for batch in test_iter:\n",
        "            x, y = batch.text, batch.label\n",
        "            probs = self.predict(x)[:len(y)]\n",
        "            upload += list(probs.data)\n",
        "            trues += list(y.data)\n",
        "\n",
        "        correct = sum([1 if i == j else 0 for i, j in zip(upload, trues)])\n",
        "        accuracy = correct / len(trues)\n",
        "        print('Testset Accuracy:', accuracy)\n",
        "\n",
        "        with open(\"predictions.txt\", \"w\") as f:\n",
        "            for u in upload:\n",
        "                f.write(str(u) + \"\\n\")\n",
        "\n",
        "    def validate(self, val_iter):\n",
        "        y_p, y_t, correct = [], [], 0\n",
        "        for batch in val_iter:\n",
        "            x, y = batch.text, batch.label\n",
        "            probs = self.model.predict(x)[:len(y)]\n",
        "            y_p += list(probs.data)\n",
        "            y_t += list(y.data)\n",
        "\n",
        "        correct = sum([1 if i == j else 0 for i, j in zip(y_p, y_t)])\n",
        "        accuracy = correct / len(y_p)\n",
        "        return accuracy"
      ]
    },
    {
      "cell_type": "code",
      "execution_count": null,
      "metadata": {
        "colab": {
          "base_uri": "https://localhost:8080/",
          "height": 874,
          "referenced_widgets": [
            "5d1094df1fcf4672ad49965f5283b0a1",
            "da02b856036d44078b9a42c7fd902d11",
            "c76f0e2eaec9485ea32c64139fc3d6a9",
            "1666192cb1a443fab15787f920a3acf9",
            "af5d61bd29f147838d3a5bda3caec230",
            "644009dcf15e46729a421a732f849378",
            "2ea83354a71c42deb7ddef89cc96140e",
            "114f155b9ef148cfa1e6e09c16f4c9af",
            "dd407b64ae484bc6ae39097c3430305b",
            "5064edc597894a98b30e93b600e89f74",
            "c0b4257df6ae415ba04f6620d1dfcd38"
          ]
        },
        "id": "7EIdwqsGLEp_",
        "outputId": "2cfa2cd4-40b1-4fad-a32e-03b62e06b3e4",
        "vscode": {
          "languageId": "python"
        }
      },
      "outputs": [
        {
          "name": "stderr",
          "output_type": "stream",
          "text": [
            "<ipython-input-33-6ae7ddf94b7c>:31: TqdmDeprecationWarning: This function will be removed in tqdm==5.0.0\n",
            "Please use `tqdm.notebook.tqdm` instead of `tqdm.tqdm_notebook`\n",
            "  for epoch in tqdm_notebook(range(1, num_epochs+1)):\n"
          ]
        },
        {
          "data": {
            "application/vnd.jupyter.widget-view+json": {
              "model_id": "5d1094df1fcf4672ad49965f5283b0a1",
              "version_major": 2,
              "version_minor": 0
            },
            "text/plain": [
              "  0%|          | 0/15 [00:00<?, ?it/s]"
            ]
          },
          "metadata": {},
          "output_type": "display_data"
        },
        {
          "name": "stdout",
          "output_type": "stream",
          "text": [
            "Epoch 1 loss: 0.6624833696408768 | acc: 0.7254255903349808\n",
            "Epoch 2 loss: 0.5767087152152393 | acc: 0.7545304777594728\n",
            "Epoch 3 loss: 0.481167671351419 | acc: 0.7803404722679846\n",
            "Epoch 4 loss: 0.39956100489621216 | acc: 0.786381109280615\n",
            "Epoch 5 loss: 0.32363632434408446 | acc: 0.800658978583196\n",
            "Epoch 6 loss: 0.2641189838948019 | acc: 0.8012081274025261\n",
            "Epoch 7 loss: 0.20435403255648868 | acc: 0.8094453596924767\n",
            "Epoch 8 loss: 0.15412249877467493 | acc: 0.8039538714991763\n",
            "Epoch 9 loss: 0.11629060703475093 | acc: 0.8209774848984075\n",
            "Epoch 10 loss: 0.08270927487214425 | acc: 0.8094453596924767\n",
            "Epoch 11 loss: 0.05781780307536482 | acc: 0.814936847885777\n",
            "Epoch 12 loss: 0.04158308997452851 | acc: 0.8138385502471169\n",
            "Epoch 13 loss: 0.02826068259932429 | acc: 0.8171334431630972\n",
            "Epoch 14 loss: 0.020753389329217494 | acc: 0.814387699066447\n",
            "Epoch 15 loss: 0.013692892982047105 | acc: 0.8017572762218561\n"
          ]
        },
        {
          "data": {
            "image/png": "[encoded data removed]",
            "text/plain": [
              "<Figure size 640x480 with 1 Axes>"
            ]
          },
          "metadata": {},
          "output_type": "display_data"
        },
        {
          "name": "stdout",
          "output_type": "stream",
          "text": [
            "\n",
            "Model trained.\n",
            "\n",
            "Testset Accuracy: 0.8017572762218561\n"
          ]
        }
      ],
      "source": [
        "model = CNN(in_channels = 300, out_channels = 2, batch_size = 10)\n",
        "model.train(train_iter = train_cnn_iter, val_iter = test_cnn_iter, num_epochs = 15, learning_rate = 1e-4)\n",
        "model.test(test_cnn_iter)"
      ]
    },
    {
      "cell_type": "code",
      "execution_count": null,
      "metadata": {
        "id": "BYwNWv3NLQ9n",
        "vscode": {
          "languageId": "python"
        }
      },
      "outputs": [],
      "source": []
    }
  ],
  "metadata": {
    "accelerator": "GPU",
    "colab": {
      "gpuType": "T4",
      "provenance": []
    },
    "gpuClass": "standard",
    "kernelspec": {
      "display_name": "Python 3",
      "name": "python3"
    },
    "widgets": {
      "application/vnd.jupyter.widget-state+json": {
        "114f155b9ef148cfa1e6e09c16f4c9af": {
          "model_module": "@jupyter-widgets/base",
          "model_module_version": "1.2.0",
          "model_name": "LayoutModel",
          "state": {
            "_model_module": "@jupyter-widgets/base",
            "_model_module_version": "1.2.0",
            "_model_name": "LayoutModel",
            "_view_count": null,
            "_view_module": "@jupyter-widgets/base",
            "_view_module_version": "1.2.0",
            "_view_name": "LayoutView",
            "align_content": null,
            "align_items": null,
            "align_self": null,
            "border": null,
            "bottom": null,
            "display": null,
            "flex": null,
            "flex_flow": null,
            "grid_area": null,
            "grid_auto_columns": null,
            "grid_auto_flow": null,
            "grid_auto_rows": null,
            "grid_column": null,
            "grid_gap": null,
            "grid_row": null,
            "grid_template_areas": null,
            "grid_template_columns": null,
            "grid_template_rows": null,
            "height": null,
            "justify_content": null,
            "justify_items": null,
            "left": null,
            "margin": null,
            "max_height": null,
            "max_width": null,
            "min_height": null,
            "min_width": null,
            "object_fit": null,
            "object_position": null,
            "order": null,
            "overflow": null,
            "overflow_x": null,
            "overflow_y": null,
            "padding": null,
            "right": null,
            "top": null,
            "visibility": null,
            "width": null
          }
        },
        "1666192cb1a443fab15787f920a3acf9": {
          "model_module": "@jupyter-widgets/controls",
          "model_module_version": "1.5.0",
          "model_name": "HTMLModel",
          "state": {
            "_dom_classes": [],
            "_model_module": "@jupyter-widgets/controls",
            "_model_module_version": "1.5.0",
            "_model_name": "HTMLModel",
            "_view_count": null,
            "_view_module": "@jupyter-widgets/controls",
            "_view_module_version": "1.5.0",
            "_view_name": "HTMLView",
            "description": "",
            "description_tooltip": null,
            "layout": "IPY_MODEL_5064edc597894a98b30e93b600e89f74",
            "placeholder": "​",
            "style": "IPY_MODEL_c0b4257df6ae415ba04f6620d1dfcd38",
            "value": " 15/15 [17:08&lt;00:00, 68.00s/it]"
          }
        },
        "2ea83354a71c42deb7ddef89cc96140e": {
          "model_module": "@jupyter-widgets/controls",
          "model_module_version": "1.5.0",
          "model_name": "DescriptionStyleModel",
          "state": {
            "_model_module": "@jupyter-widgets/controls",
            "_model_module_version": "1.5.0",
            "_model_name": "DescriptionStyleModel",
            "_view_count": null,
            "_view_module": "@jupyter-widgets/base",
            "_view_module_version": "1.2.0",
            "_view_name": "StyleView",
            "description_width": ""
          }
        },
        "5064edc597894a98b30e93b600e89f74": {
          "model_module": "@jupyter-widgets/base",
          "model_module_version": "1.2.0",
          "model_name": "LayoutModel",
          "state": {
            "_model_module": "@jupyter-widgets/base",
            "_model_module_version": "1.2.0",
            "_model_name": "LayoutModel",
            "_view_count": null,
            "_view_module": "@jupyter-widgets/base",
            "_view_module_version": "1.2.0",
            "_view_name": "LayoutView",
            "align_content": null,
            "align_items": null,
            "align_self": null,
            "border": null,
            "bottom": null,
            "display": null,
            "flex": null,
            "flex_flow": null,
            "grid_area": null,
            "grid_auto_columns": null,
            "grid_auto_flow": null,
            "grid_auto_rows": null,
            "grid_column": null,
            "grid_gap": null,
            "grid_row": null,
            "grid_template_areas": null,
            "grid_template_columns": null,
            "grid_template_rows": null,
            "height": null,
            "justify_content": null,
            "justify_items": null,
            "left": null,
            "margin": null,
            "max_height": null,
            "max_width": null,
            "min_height": null,
            "min_width": null,
            "object_fit": null,
            "object_position": null,
            "order": null,
            "overflow": null,
            "overflow_x": null,
            "overflow_y": null,
            "padding": null,
            "right": null,
            "top": null,
            "visibility": null,
            "width": null
          }
        },
        "5d1094df1fcf4672ad49965f5283b0a1": {
          "model_module": "@jupyter-widgets/controls",
          "model_module_version": "1.5.0",
          "model_name": "HBoxModel",
          "state": {
            "_dom_classes": [],
            "_model_module": "@jupyter-widgets/controls",
            "_model_module_version": "1.5.0",
            "_model_name": "HBoxModel",
            "_view_count": null,
            "_view_module": "@jupyter-widgets/controls",
            "_view_module_version": "1.5.0",
            "_view_name": "HBoxView",
            "box_style": "",
            "children": [
              "IPY_MODEL_da02b856036d44078b9a42c7fd902d11",
              "IPY_MODEL_c76f0e2eaec9485ea32c64139fc3d6a9",
              "IPY_MODEL_1666192cb1a443fab15787f920a3acf9"
            ],
            "layout": "IPY_MODEL_af5d61bd29f147838d3a5bda3caec230"
          }
        },
        "644009dcf15e46729a421a732f849378": {
          "model_module": "@jupyter-widgets/base",
          "model_module_version": "1.2.0",
          "model_name": "LayoutModel",
          "state": {
            "_model_module": "@jupyter-widgets/base",
            "_model_module_version": "1.2.0",
            "_model_name": "LayoutModel",
            "_view_count": null,
            "_view_module": "@jupyter-widgets/base",
            "_view_module_version": "1.2.0",
            "_view_name": "LayoutView",
            "align_content": null,
            "align_items": null,
            "align_self": null,
            "border": null,
            "bottom": null,
            "display": null,
            "flex": null,
            "flex_flow": null,
            "grid_area": null,
            "grid_auto_columns": null,
            "grid_auto_flow": null,
            "grid_auto_rows": null,
            "grid_column": null,
            "grid_gap": null,
            "grid_row": null,
            "grid_template_areas": null,
            "grid_template_columns": null,
            "grid_template_rows": null,
            "height": null,
            "justify_content": null,
            "justify_items": null,
            "left": null,
            "margin": null,
            "max_height": null,
            "max_width": null,
            "min_height": null,
            "min_width": null,
            "object_fit": null,
            "object_position": null,
            "order": null,
            "overflow": null,
            "overflow_x": null,
            "overflow_y": null,
            "padding": null,
            "right": null,
            "top": null,
            "visibility": null,
            "width": null
          }
        },
        "af5d61bd29f147838d3a5bda3caec230": {
          "model_module": "@jupyter-widgets/base",
          "model_module_version": "1.2.0",
          "model_name": "LayoutModel",
          "state": {
            "_model_module": "@jupyter-widgets/base",
            "_model_module_version": "1.2.0",
            "_model_name": "LayoutModel",
            "_view_count": null,
            "_view_module": "@jupyter-widgets/base",
            "_view_module_version": "1.2.0",
            "_view_name": "LayoutView",
            "align_content": null,
            "align_items": null,
            "align_self": null,
            "border": null,
            "bottom": null,
            "display": null,
            "flex": null,
            "flex_flow": null,
            "grid_area": null,
            "grid_auto_columns": null,
            "grid_auto_flow": null,
            "grid_auto_rows": null,
            "grid_column": null,
            "grid_gap": null,
            "grid_row": null,
            "grid_template_areas": null,
            "grid_template_columns": null,
            "grid_template_rows": null,
            "height": null,
            "justify_content": null,
            "justify_items": null,
            "left": null,
            "margin": null,
            "max_height": null,
            "max_width": null,
            "min_height": null,
            "min_width": null,
            "object_fit": null,
            "object_position": null,
            "order": null,
            "overflow": null,
            "overflow_x": null,
            "overflow_y": null,
            "padding": null,
            "right": null,
            "top": null,
            "visibility": null,
            "width": null
          }
        },
        "c0b4257df6ae415ba04f6620d1dfcd38": {
          "model_module": "@jupyter-widgets/controls",
          "model_module_version": "1.5.0",
          "model_name": "DescriptionStyleModel",
          "state": {
            "_model_module": "@jupyter-widgets/controls",
            "_model_module_version": "1.5.0",
            "_model_name": "DescriptionStyleModel",
            "_view_count": null,
            "_view_module": "@jupyter-widgets/base",
            "_view_module_version": "1.2.0",
            "_view_name": "StyleView",
            "description_width": ""
          }
        },
        "c76f0e2eaec9485ea32c64139fc3d6a9": {
          "model_module": "@jupyter-widgets/controls",
          "model_module_version": "1.5.0",
          "model_name": "FloatProgressModel",
          "state": {
            "_dom_classes": [],
            "_model_module": "@jupyter-widgets/controls",
            "_model_module_version": "1.5.0",
            "_model_name": "FloatProgressModel",
            "_view_count": null,
            "_view_module": "@jupyter-widgets/controls",
            "_view_module_version": "1.5.0",
            "_view_name": "ProgressView",
            "bar_style": "success",
            "description": "",
            "description_tooltip": null,
            "layout": "IPY_MODEL_114f155b9ef148cfa1e6e09c16f4c9af",
            "max": 15,
            "min": 0,
            "orientation": "horizontal",
            "style": "IPY_MODEL_dd407b64ae484bc6ae39097c3430305b",
            "value": 15
          }
        },
        "da02b856036d44078b9a42c7fd902d11": {
          "model_module": "@jupyter-widgets/controls",
          "model_module_version": "1.5.0",
          "model_name": "HTMLModel",
          "state": {
            "_dom_classes": [],
            "_model_module": "@jupyter-widgets/controls",
            "_model_module_version": "1.5.0",
            "_model_name": "HTMLModel",
            "_view_count": null,
            "_view_module": "@jupyter-widgets/controls",
            "_view_module_version": "1.5.0",
            "_view_name": "HTMLView",
            "description": "",
            "description_tooltip": null,
            "layout": "IPY_MODEL_644009dcf15e46729a421a732f849378",
            "placeholder": "​",
            "style": "IPY_MODEL_2ea83354a71c42deb7ddef89cc96140e",
            "value": "100%"
          }
        },
        "dd407b64ae484bc6ae39097c3430305b": {
          "model_module": "@jupyter-widgets/controls",
          "model_module_version": "1.5.0",
          "model_name": "ProgressStyleModel",
          "state": {
            "_model_module": "@jupyter-widgets/controls",
            "_model_module_version": "1.5.0",
            "_model_name": "ProgressStyleModel",
            "_view_count": null,
            "_view_module": "@jupyter-widgets/base",
            "_view_module_version": "1.2.0",
            "_view_name": "StyleView",
            "bar_color": null,
            "description_width": ""
          }
        }
      }
    }
  },
  "nbformat": 4,
  "nbformat_minor": 0
}
